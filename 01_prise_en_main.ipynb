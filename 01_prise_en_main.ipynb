{
  "cells": [
    {
      "cell_type": "markdown",
      "metadata": {
        "id": "view-in-github",
        "colab_type": "text"
      },
      "source": [
        "<a href=\"https://colab.research.google.com/github/uvsq22202730/l1-python/blob/master/01_prise_en_main.ipynb\" target=\"_parent\"><img src=\"https://colab.research.google.com/assets/colab-badge.svg\" alt=\"Open In Colab\"/></a>"
      ]
    },
    {
      "cell_type": "markdown",
      "metadata": {
        "id": "p-wcHyvUf5jd"
      },
      "source": [
        "# TD 1: Environnement de programmation et premiers pas avec Python"
      ]
    },
    {
      "cell_type": "markdown",
      "metadata": {
        "id": "31dJvGt5f5jp"
      },
      "source": [
        "---\n",
        "\n",
        "## 1.Vérification de l'installation de l'environnement de programmation\n",
        "\n",
        "Avant de débuter ce td, vous devez avoir suivi la procédure d'installation [INSTALL.md](https://github.com/uvsq-info/l1-python/blob/master/INSTALL.md) si vous utilisez votre ordinateur personnel. Et, que vous utilisiez votre ordinateur personnel ou bien un ordinateur du cartable numérique, vous avez testé toutes les étapes du [tutoriel de prise en main de l'environnement de programmation](https://github.com/uvsq-info/l1-python/blob/master/README.md) jusqu'à la partie **utilisation du projet dans un terminal**. Si un des tests ne marche pas, appelez un enseignant. Si vous ne réusissez pas à exécuter le code du notebook, et en attendant que l'on vienne vous aider, vous pouvez travailler en utilisant un [notebook en ligne](https://colab.research.google.com/notebooks/intro.ipynb). Le notebook en ligne est aussi une solution pour programmer depuis chez vous si vous n'avez pas installé l'environnement correctement. Mais la solution privilégiée reste d'installer l'environnement.\n",
        "\n",
        "Tout au long du travail que vous ferez sur les notebooks, pensez à sauvegarder via la barre de menus *File* puis *Save* ou avec le raccourci clavier Ctrl+S. Lorsqu'un fichier est correctement sauvegardé, le rond blanc disposé à côté du nom du fichier en haut de VSCode disparait.\n",
        "A la fin du td, mais également à la fin de chaque section du notebook, pensez à sauvegardez votre travail sur votre compte github.\n",
        "\n",
        "Afin d'utiliser les cellules de ce notebook, en haut à droite de la fenêtre cliquer sur \"Select Kernel\" et choisir \"Python 3.9.X XX-bit ('l1-python': conda)\"."
      ]
    },
    {
      "cell_type": "markdown",
      "metadata": {
        "id": "ujEzJuB2f5js"
      },
      "source": [
        "---\n",
        "## 2.Utilisation du notebook Python\n",
        "\n",
        "Dans un premier temps, nous allons voir comment utiliser le notebook. Le notebook permet d'écrire du code que l'on peut évaluer au fur et à mesure. Plus tard, nous programmerons dans un fichier texte, en utilisant l'éditeur VisualStudioCode (VSCode dans la suite) et l'environnement qu'il fournit pour écrire des programmes en Python. \n",
        "\n",
        "Un notebook contient des *cellules* qui sont de deux sortes: il y a des cellules de texte écrites dans un langage de mise en forme de texte appelé *Markdown*, et les cellules de code que vous allez remplir. Les cellules de code sont sur fond gris et un triangle gris apparait sur la gauche de la cellule lorsque votre souris la survole.\n",
        "\n",
        "1. Dans la cellule de code suivante, tapez `1 + 1` puis évaluez la cellule en cliquant sur le triangle gris situé à gauche de la cellule.\n",
        "\n",
        "\n"
      ]
    },
    {
      "cell_type": "code",
      "execution_count": 1,
      "metadata": {
        "colab": {
          "base_uri": "https://localhost:8080/"
        },
        "id": "hcDUrvIef5ju",
        "outputId": "369c68ce-1887-4492-aeea-72fa2a9c42d3"
      },
      "outputs": [
        {
          "output_type": "execute_result",
          "data": {
            "text/plain": [
              "2"
            ]
          },
          "metadata": {},
          "execution_count": 1
        }
      ],
      "source": [
        "1+1"
      ]
    },
    {
      "cell_type": "markdown",
      "metadata": {
        "id": "md6Xlcnhf5jw"
      },
      "source": [
        "2. Cliquez de nouveau sur cette cellule et appuyez sur les touches `SHIFT + ENTREE` du clavier.\n",
        "\n",
        "**Note**: Cela évalue également la cellule de code. Remarquez le numéro qui s'affiche dans les crochets à gauche de la cellule de code : c'est *l'ordre d'évaluation* de la cellule. \n",
        "\n",
        "3. Dans la cellule suivante, affectez le résultat de l'expression `1 + 1` à une variable notée `a`. Bien entendu, évaluez la cellule (on ne le rappellera pas systématiquement)."
      ]
    },
    {
      "cell_type": "code",
      "source": [
        "a=1+1"
      ],
      "metadata": {
        "id": "Mai39DtWi7Fe"
      },
      "execution_count": 2,
      "outputs": []
    },
    {
      "cell_type": "code",
      "execution_count": 3,
      "metadata": {
        "colab": {
          "base_uri": "https://localhost:8080/"
        },
        "id": "CSRWYH_Gf5jx",
        "outputId": "d122c4f4-d416-4a93-acd4-df871af5c2be"
      },
      "outputs": [
        {
          "output_type": "stream",
          "name": "stdout",
          "text": [
            "2\n"
          ]
        }
      ],
      "source": [
        "print(a)"
      ]
    },
    {
      "cell_type": "markdown",
      "metadata": {
        "id": "HE5S3YGUf5jz"
      },
      "source": [
        "4. Remarquez que l'évaluation de cette cellule ne génère aucun *texte  en sortie*. Pour connaître la valeur de la variable `a`, tapez le nom de la variable dans la cellule suivante."
      ]
    },
    {
      "cell_type": "code",
      "execution_count": 4,
      "metadata": {
        "colab": {
          "base_uri": "https://localhost:8080/"
        },
        "id": "4LuH3U2xf5j0",
        "outputId": "880c9de2-61f7-42f5-c1a9-4c3bc2ba6513"
      },
      "outputs": [
        {
          "output_type": "execute_result",
          "data": {
            "text/plain": [
              "2"
            ]
          },
          "metadata": {},
          "execution_count": 4
        }
      ],
      "source": [
        "a"
      ]
    },
    {
      "cell_type": "markdown",
      "metadata": {
        "id": "0-tgcd0Lf5j2"
      },
      "source": [
        "5. Testez maintenant l'expression `print(a)`."
      ]
    },
    {
      "cell_type": "code",
      "execution_count": 5,
      "metadata": {
        "tags": [],
        "colab": {
          "base_uri": "https://localhost:8080/"
        },
        "id": "LJcKUcEyf5j4",
        "outputId": "c4859ba3-c1d8-44c9-acd3-2a5945d3beae"
      },
      "outputs": [
        {
          "output_type": "stream",
          "name": "stdout",
          "text": [
            "2\n"
          ]
        }
      ],
      "source": [
        "print(a)"
      ]
    },
    {
      "cell_type": "markdown",
      "metadata": {
        "id": "KWgntpm5f5j5"
      },
      "source": [
        "Le résultat est identique. La première méthode fonctionne dans le notebook, mais pas dans un programme Python. C'est pourquoi il vaut mieux utiliser la deuxième méthode qui repose sur l'utilisation de la *fonction native* `print()`. L'ensemble de ces fonctions est [disponible ici](https://docs.python.org/fr/3.5/library/functions.html).\n",
        "\n",
        "6. Augmentez de 1 la valeur de `a`. L'expression doit donner le bon résultat quelle que soit la valeur de la variable."
      ]
    },
    {
      "cell_type": "code",
      "execution_count": 17,
      "metadata": {
        "id": "FKPqjYDDf5j7"
      },
      "outputs": [],
      "source": [
        "a = a+1"
      ]
    },
    {
      "cell_type": "markdown",
      "metadata": {
        "id": "eGvSndNNf5j8"
      },
      "source": [
        "Et vérifiez en affichant la valeur de `a`."
      ]
    },
    {
      "cell_type": "code",
      "execution_count": 18,
      "metadata": {
        "tags": [],
        "colab": {
          "base_uri": "https://localhost:8080/"
        },
        "id": "POUmBS_1f5j-",
        "outputId": "ceb9968e-6de0-4fef-b16f-7c98e855dc65"
      },
      "outputs": [
        {
          "output_type": "stream",
          "name": "stdout",
          "text": [
            "6\n"
          ]
        }
      ],
      "source": [
        "print(a)"
      ]
    },
    {
      "cell_type": "markdown",
      "metadata": {
        "id": "YCM8Z-cBf5j_"
      },
      "source": [
        "7. Ré-évaluez toutes les cellules où vous avez affiché la valeur de `a`. Que remarquez-vous? On voit ici que ce qui compte dans le notebook est *l'ordre d'évaluation* et non pas *l'ordre d'apparition* des cellules. Ce comportement est source d'erreur, il faut donc bien y faire attention.\n",
        "\n",
        "8. Sans écrire de code supplémentaire, augmentez encore de 1 la valeur de `a`, et vérifiez que ça a bien fonctionné.\n",
        "\n",
        "**Note**: les 5 questions suivantes sont relatives à l'usage du notebook dans VSCode. Si vous travaillez avec un autre type de notebook, il est possible que vous n'ayez pas accès à toutes ces fonctionnalités.\n",
        "\n",
        "9. Parmi les icônes situés en haut du notebook, cliquez sur `Clear Outputs` puis ré-évaluez la variable `a`.\n",
        "\n",
        "10. Parmi les icônes situés en haut du notebook, cliquez sur `Variables` et regardez le résultat. Cet outil est très utile pour comprendre les erreurs liées à l'ordre d'évaluation des cellules.\n",
        "\n",
        "11. Parmi les icônes situés en haut du notebook, cliquez sur `Restart` et regardez le résultat dans l'affichage des variables. Ré-évaluez la variable `a`. Que se passe-t'il ?\n",
        "\n",
        "12. Enfin, sauvegardez votre travail.\n",
        "\n",
        "13. Dans la cellule suivante, affectez la valeur 5 à la variable `a` et la valeur 2 à la variable `b`, puis afficher les 2 valeurs avec l'expression `print(a, b)`.\n"
      ]
    },
    {
      "cell_type": "code",
      "execution_count": 19,
      "metadata": {
        "tags": [],
        "colab": {
          "base_uri": "https://localhost:8080/"
        },
        "id": "9WvrMECMf5kB",
        "outputId": "3e4a6e77-e079-46bd-ad15-e5fcd1c550cb"
      },
      "outputs": [
        {
          "output_type": "stream",
          "name": "stdout",
          "text": [
            "5 2\n"
          ]
        }
      ],
      "source": [
        "a=5\n",
        "b=2\n",
        "print(a, b)"
      ]
    },
    {
      "cell_type": "markdown",
      "metadata": {
        "id": "JIj-Ax5Ef5kB"
      },
      "source": [
        "15. Ecrivez le code qui permet d'échanger la valeur des variables `a` et `b`. Puis affichez leurs valeurs."
      ]
    },
    {
      "cell_type": "code",
      "execution_count": 20,
      "metadata": {
        "tags": [],
        "colab": {
          "base_uri": "https://localhost:8080/"
        },
        "id": "GCoavpDzf5kC",
        "outputId": "0c4ee9b1-4382-4a86-ab93-fb955fea6f6b"
      },
      "outputs": [
        {
          "output_type": "stream",
          "name": "stdout",
          "text": [
            "2 5\n"
          ]
        }
      ],
      "source": [
        "print(b,a)"
      ]
    },
    {
      "cell_type": "markdown",
      "metadata": {
        "id": "N6gKhAKdf5kC"
      },
      "source": [
        "16. Pour enrichir l'affichage, recopiez l'expression `print(\"a vaut\", a, \"et b vaut\", b)`."
      ]
    },
    {
      "cell_type": "markdown",
      "source": [],
      "metadata": {
        "id": "lR6e2sL_lQQ8"
      }
    },
    {
      "cell_type": "code",
      "execution_count": 21,
      "metadata": {
        "tags": [],
        "colab": {
          "base_uri": "https://localhost:8080/"
        },
        "id": "75FaUQlef5kD",
        "outputId": "8035883f-b302-4d4a-c028-edd8fd848d88"
      },
      "outputs": [
        {
          "output_type": "stream",
          "name": "stdout",
          "text": [
            "a vaut 5 et b vaut 2\n"
          ]
        }
      ],
      "source": [
        "print(\"a vaut\", a, \"et b vaut\", b)"
      ]
    },
    {
      "cell_type": "markdown",
      "metadata": {
        "id": "gXjrEXnTf5kE"
      },
      "source": [
        "17.  Recopiez l'affectation suivante `a = \"hello world\"`, puis affichez la valeur de `a`."
      ]
    },
    {
      "cell_type": "code",
      "execution_count": 22,
      "metadata": {
        "tags": [],
        "colab": {
          "base_uri": "https://localhost:8080/"
        },
        "id": "2Zze0Ut-f5kE",
        "outputId": "31e12d04-c78b-4a69-b6c9-405022847317"
      },
      "outputs": [
        {
          "output_type": "stream",
          "name": "stdout",
          "text": [
            "hello world\n"
          ]
        }
      ],
      "source": [
        "a = \"hello world\"\n",
        "print(a)"
      ]
    },
    {
      "cell_type": "markdown",
      "metadata": {
        "id": "a0kOWEDxf5kF"
      },
      "source": [
        "**Note**: la variable `a` contenait un entier, et maintenant une chaîne de caractères. En Python les variables ont un *type dynamique* contrairement au type statique où le type des variables est défini une fois pour toutes. De plus ce typage est *implicite*, c'est-à-dire qu'il est déterminé par les objets auxquels les variables font référence sans avoir besoin de l'écrire explicitement.\n",
        "\n",
        "18. Afficher de nouveau la valeur de `a` sans utiliser la fonction `print`. Que constatez-vous?\n",
        "\n",
        "19. Avant de passer à la suite, sauvegardez votre notebook, et sauvegardez le sur github."
      ]
    },
    {
      "cell_type": "markdown",
      "metadata": {
        "id": "mtTD3w6mf5kG"
      },
      "source": [
        "\n",
        "-------------------\n",
        "## 3.Types de données\n",
        "En Python, toute variable ou expression possède un *type* qui définit, entre autres, les opérations que l'on peut lui  appliquer. Parmi les types natifs on peut citer les nombres entiers, les nombres flottants, les chaînes de caractères (string en anglais) et les booléens (Vrai ou Faux).\n",
        "\n",
        "\n",
        "1. Prédisez le type de chacune des expressions suivantes. Vérifiez le à l'aide de la fonction `type()`:\n",
        "\n",
        "* `5`\n",
        "* `5.0`\n",
        "* `\"5\"`\n",
        "* `-5`\n",
        "* `5 / 2`\n",
        "* `5 // 2`\n",
        "* ` 5 == 2  `\n",
        "* `5 = 2`"
      ]
    },
    {
      "cell_type": "code",
      "execution_count": 28,
      "metadata": {
        "colab": {
          "base_uri": "https://localhost:8080/"
        },
        "id": "8fJ6Txocf5kH",
        "outputId": "4ae142cb-29d7-409e-857f-b232d36f8ef2"
      },
      "outputs": [
        {
          "output_type": "stream",
          "name": "stdout",
          "text": [
            "<class 'int'>\n",
            "<class 'float'>\n",
            "<class 'str'>\n",
            "<class 'int'>\n",
            "<class 'float'>\n",
            "<class 'int'>\n",
            "<class 'bool'>\n"
          ]
        }
      ],
      "source": [
        "print(type(5))\n",
        "print(type(5.0))\n",
        "print(type(\"5\"))\n",
        "print(type(-5))\n",
        "print(type(5 / 2))\n",
        "print(type(5 // 2))\n",
        "print(type(5 == 2))\n",
        "#print(type(5 = 2))"
      ]
    },
    {
      "cell_type": "markdown",
      "metadata": {
        "id": "qUO1Zh7Kf5kH"
      },
      "source": [
        "Ce sont les types de base du langage Python que nous allons étudier dans la suite. Notez que les nombres flottants s'écrivent avec un point et non avec une virgule.\n",
        "\n",
        "2. Faites la même chose avec les expressions suivantes:\n",
        "\n",
        "* `(5, 2)`\n",
        "* `[5, 2]`\n",
        "* `{5, 2}`\n"
      ]
    },
    {
      "cell_type": "code",
      "execution_count": 31,
      "metadata": {
        "colab": {
          "base_uri": "https://localhost:8080/"
        },
        "id": "hIZStYbXf5kH",
        "outputId": "65cf53e4-76c3-40c3-b9f0-83c34127a38e"
      },
      "outputs": [
        {
          "output_type": "stream",
          "name": "stdout",
          "text": [
            "<class 'tuple'>\n",
            "<class 'list'>\n",
            "<class 'set'>\n"
          ]
        }
      ],
      "source": [
        "print(type((5, 2)))\n",
        "print(type([5, 2]))\n",
        "print(type({5, 2}))"
      ]
    },
    {
      "cell_type": "markdown",
      "metadata": {
        "id": "nJTlqFRtf5kI"
      },
      "source": [
        "Ce sont des types avancés, qui permettent de construire des structures de données plus complexes, que nous apprendrons à manipuler plus tard. Pouvez-vous trouver une expression ayant un autre type?  Vous pouvez consulter la [documentation Python sur les types](https://docs.python.org/fr/3/library/stdtypes.html).\n",
        "\n",
        "3. Maintenant, affectez une valeur à une variable `x`, et écrivez le code qui affiche, par exemple, `le type de x est <class 'int'>` si jamais la valeur stockée dans `x` est un entier.\n"
      ]
    },
    {
      "cell_type": "code",
      "execution_count": 32,
      "metadata": {
        "tags": [],
        "colab": {
          "base_uri": "https://localhost:8080/"
        },
        "id": "MDGK4KRaf5kJ",
        "outputId": "867a0ca5-f903-4f54-c7ef-cc9577b0f9b7"
      },
      "outputs": [
        {
          "output_type": "stream",
          "name": "stdout",
          "text": [
            "le type de 2 est <class 'int'>\n"
          ]
        }
      ],
      "source": [
        "x= 2\n",
        "print(\"le type de\", x,\"est <class 'int'>\")"
      ]
    },
    {
      "cell_type": "markdown",
      "metadata": {
        "id": "QQikZ48Pf5kJ"
      },
      "source": [
        "\n",
        "### 3.1 Type numérique entier\n",
        "\n",
        "1. Affectez une valeur entière à une variable `v`.\n"
      ]
    },
    {
      "cell_type": "code",
      "execution_count": null,
      "metadata": {
        "id": "za6c1NMSf5kK"
      },
      "outputs": [],
      "source": [
        "v= 7"
      ]
    },
    {
      "cell_type": "markdown",
      "metadata": {
        "id": "bOzd6W66f5kK"
      },
      "source": [
        "2. Ecrivez le résultat de la division entière de `v` par 11. Par exemple, si `v` vaut 149, le résultat affiché doit être de la forme: \n",
        "\n",
        "`149 = 13 x 11 + 6`"
      ]
    },
    {
      "cell_type": "code",
      "execution_count": 40,
      "metadata": {
        "tags": [],
        "colab": {
          "base_uri": "https://localhost:8080/"
        },
        "id": "Mj0KSlo7f5kK",
        "outputId": "bc7a4d6d-ea6b-496d-80fb-c0c50d9fdb07"
      },
      "outputs": [
        {
          "output_type": "stream",
          "name": "stdout",
          "text": [
            "8\n"
          ]
        }
      ],
      "source": [
        "v= 22\n",
        "t = v//11+6\n",
        "print(t)"
      ]
    },
    {
      "cell_type": "markdown",
      "metadata": {
        "id": "LHpETMRaf5kL"
      },
      "source": [
        "3. Prédisez le résultat des expressions suivantes, puis évaluer le code:\n",
        "* `3 * (10 / 3)`\n",
        "* `3 * (10 // 3)`\n",
        "* `(3 * 10) // 3`"
      ]
    },
    {
      "cell_type": "code",
      "execution_count": 42,
      "metadata": {
        "colab": {
          "base_uri": "https://localhost:8080/"
        },
        "id": "BDq9GYscf5kL",
        "outputId": "f24c6538-6670-46f7-caab-e899810e8e21"
      },
      "outputs": [
        {
          "output_type": "stream",
          "name": "stdout",
          "text": [
            "10.0 9 10\n"
          ]
        }
      ],
      "source": [
        "x =3 * (10 / 3)\n",
        "y= 3 * (10 // 3)\n",
        "z= (3 * 10) // 3\n",
        "print(x, y, z)"
      ]
    },
    {
      "cell_type": "markdown",
      "metadata": {
        "id": "IFCARe4Yf5kM"
      },
      "source": [
        "5. Le résultat change-t'il si on retire les parenthèses des expressions précédentes?"
      ]
    },
    {
      "cell_type": "markdown",
      "metadata": {
        "id": "ybr-YHHwf5kM"
      },
      "source": [
        "\n",
        "6. Affectez un nombre entier à une variable, puis écrivez une expression qui affiche `True` si la variable est paire et `False` sinon."
      ]
    },
    {
      "cell_type": "code",
      "execution_count": 47,
      "metadata": {
        "tags": [],
        "colab": {
          "base_uri": "https://localhost:8080/"
        },
        "id": "fjX-w3NRf5kN",
        "outputId": "df811393-5123-4610-e24f-9032981180bc"
      },
      "outputs": [
        {
          "output_type": "stream",
          "name": "stdout",
          "text": [
            "False\n"
          ]
        }
      ],
      "source": [
        "v= 9\n",
        "r= v%2\n",
        "if r==0:\n",
        "  print(True)\n",
        "print(False)"
      ]
    },
    {
      "cell_type": "markdown",
      "metadata": {
        "id": "YwsYDIyAf5kN"
      },
      "source": [
        "7. L'opérateur puissance s'écrit `**`. Par exemple, 2 à la puissance 10 s'écrit `2 ** 10`. Affichez la valeur de 2 puissance 256. Combien de chiffres a ce nombre (en évitant de compter sur l'écran)?"
      ]
    },
    {
      "cell_type": "code",
      "execution_count": 48,
      "metadata": {
        "tags": [],
        "colab": {
          "base_uri": "https://localhost:8080/"
        },
        "id": "NfldBORqf5kO",
        "outputId": "733f9275-3b9f-4389-e15f-03eefd36fcaa"
      },
      "outputs": [
        {
          "output_type": "stream",
          "name": "stdout",
          "text": [
            "115792089237316195423570985008687907853269984665640564039457584007913129639936\n"
          ]
        }
      ],
      "source": [
        "p= 2**256\n",
        "print(p)"
      ]
    },
    {
      "cell_type": "markdown",
      "metadata": {
        "id": "oMpUmZyxf5kO"
      },
      "source": [
        "**Note**:  les nombres entiers ont une précision arbitraire."
      ]
    },
    {
      "cell_type": "markdown",
      "metadata": {
        "id": "6u4F5GhWf5kP"
      },
      "source": [
        "Ecrire l'expression qui donne le dernier chiffre du nombre référencé par la variable `a`."
      ]
    },
    {
      "cell_type": "code",
      "execution_count": 67,
      "metadata": {
        "tags": [],
        "colab": {
          "base_uri": "https://localhost:8080/"
        },
        "id": "-Iqkp2Dkf5kQ",
        "outputId": "14405ed9-db2f-4a6f-c523-6740300f9a7f"
      },
      "outputs": [
        {
          "output_type": "stream",
          "name": "stdout",
          "text": [
            "0\n"
          ]
        }
      ],
      "source": []
    },
    {
      "cell_type": "markdown",
      "metadata": {
        "id": "taK9vmlyf5kQ"
      },
      "source": [
        "Ecrire l'expression qui donne l'avant-dernier chiffre du nombre référencé par la variable `a`."
      ]
    },
    {
      "cell_type": "code",
      "execution_count": null,
      "metadata": {
        "tags": [],
        "id": "VVwv1Ku4f5kR"
      },
      "outputs": [],
      "source": []
    },
    {
      "cell_type": "markdown",
      "metadata": {
        "id": "mcpEMmlPf5kR"
      },
      "source": [
        "\n",
        "### 3.2 Nombres flottants\n",
        "\n",
        "1. L'expression `0.2 + 0.4` est-elle égale, supérieure ou inférieure à `0.6`?"
      ]
    },
    {
      "cell_type": "code",
      "execution_count": 1,
      "metadata": {
        "tags": [],
        "colab": {
          "base_uri": "https://localhost:8080/"
        },
        "id": "PcaVQYWsf5kR",
        "outputId": "a8102f87-7983-415a-88c9-1ab4eda054c5"
      },
      "outputs": [
        {
          "output_type": "stream",
          "name": "stdout",
          "text": [
            "supérieur\n"
          ]
        }
      ],
      "source": [
        "t = 0.2 + 0.4\n",
        "if t == 0.6:\n",
        "  print(\"égale\")\n",
        "elif t > 0.6:\n",
        "  print(\"supérieur\")\n",
        "elif t < 0.6:\n",
        "  print(\"inférieur\")\n"
      ]
    },
    {
      "cell_type": "markdown",
      "metadata": {
        "id": "gXiW6TX6f5kS"
      },
      "source": [
        "2. Affectez la valeur 0.5 à une variable `x`. Multipliez `x` par $2^{30}$ puis convertissez le résultat obtenu en valeur entière (utilisez la fonction `int()`) puis divisez le résultat par $2^{30}$ (faire une division flottante)."
      ]
    },
    {
      "cell_type": "code",
      "execution_count": 15,
      "metadata": {
        "tags": [],
        "colab": {
          "base_uri": "https://localhost:8080/"
        },
        "id": "_FNlEQAPf5kS",
        "outputId": "79829c35-429e-489b-9177-7f519dd26714"
      },
      "outputs": [
        {
          "output_type": "stream",
          "name": "stdout",
          "text": [
            "107374182\n",
            "9.313225746154786e-11\n"
          ]
        }
      ],
      "source": [
        "x = 0.1\n",
        "y = 2**30\n",
        "m = int(x*y)\n",
        "d = float(x/y)\n",
        "print(m)\n",
        "print(d)\n"
      ]
    },
    {
      "cell_type": "markdown",
      "metadata": {
        "id": "5TtkhpGRf5kS"
      },
      "source": [
        "3. Remplacez la valeur de `x` par 0.1 et refaites le calcul."
      ]
    },
    {
      "cell_type": "markdown",
      "metadata": {
        "id": "XoNzpsRQf5kT"
      },
      "source": [
        "4. Pouvez-vous trouver d'autres valeurs de `x` pour lesquelles l'expression calculée redonne la valeur de `x`?\n",
        "\n",
        "**Note**: les nombres flottants que l'on manipule sont en fait une approximation de ces nombres. Pour plus de détails, vous pouvez consulter [cet article](https://docs.python.org/fr/3.8/tutorial/floatingpoint.html)."
      ]
    },
    {
      "cell_type": "markdown",
      "metadata": {
        "id": "Ral-IKAMf5kT"
      },
      "source": [
        "### 3.3 Chaînes de caractères"
      ]
    },
    {
      "cell_type": "markdown",
      "metadata": {
        "id": "BcMKu8rwf5kU"
      },
      "source": [
        "1. Dans la cellule de code suivante, affichez le résultat de l'expression `a + b`, et de `b + a`"
      ]
    },
    {
      "cell_type": "code",
      "execution_count": 24,
      "metadata": {
        "tags": [],
        "colab": {
          "base_uri": "https://localhost:8080/"
        },
        "id": "Fv-Sk9b2f5kU",
        "outputId": "7c70ff01-48e4-4603-caff-5c09fcf5837d"
      },
      "outputs": [
        {
          "output_type": "stream",
          "name": "stdout",
          "text": [
            "hello world\n",
            "world hello\n"
          ]
        }
      ],
      "source": [
        "a = \"hello\"\n",
        "b = 'world'\n",
        "print(a, b)\n",
        "print(b, a)"
      ]
    },
    {
      "cell_type": "markdown",
      "metadata": {
        "id": "gA2E1xG8f5kW"
      },
      "source": [
        "**Notes**: les chaînes de caractères peuvent s'écrire avec des guillemets simples ou doubles (d'autres formes existent). L'opération d'addition de chaînes est appelée *concaténation*.\n",
        "\n",
        "2. Dans la cellule précédente, ajoutez un espace entre `hello` et `world` sans modifier les variables."
      ]
    },
    {
      "cell_type": "markdown",
      "metadata": {
        "id": "dUXBuIMUf5kW"
      },
      "source": [
        "3. Avant d'afficher le résultat, prédire ce que valent `a * 3` et `(a + b) * 2`?"
      ]
    },
    {
      "cell_type": "code",
      "execution_count": 21,
      "metadata": {
        "tags": [],
        "colab": {
          "base_uri": "https://localhost:8080/"
        },
        "id": "3CKcDdh_f5kX",
        "outputId": "2c3b58a4-0068-4654-a91c-6a3b808bdd5d"
      },
      "outputs": [
        {
          "output_type": "stream",
          "name": "stdout",
          "text": [
            "hellohellohello\n",
            "helloworldhelloworld\n"
          ]
        }
      ],
      "source": [
        "print(a*3)\n",
        "print((a+b)*2) "
      ]
    },
    {
      "cell_type": "markdown",
      "metadata": {
        "id": "oyer8M8Hf5kY"
      },
      "source": [
        "4. On peut appliquer des *méthodes* (ce sont des fonctions qui s'appliquent à un certain type d'objets) à une chaîne de caractères. Par exemple tester ce que vaut `a.upper()`."
      ]
    },
    {
      "cell_type": "code",
      "source": [
        "print(a.upper())"
      ],
      "metadata": {
        "colab": {
          "base_uri": "https://localhost:8080/"
        },
        "id": "ADeZjHnj9bUS",
        "outputId": "0d30b373-b304-4c7d-ae86-754b5d41d024"
      },
      "execution_count": 23,
      "outputs": [
        {
          "output_type": "stream",
          "name": "stdout",
          "text": [
            "HELLO\n"
          ]
        }
      ]
    },
    {
      "cell_type": "code",
      "execution_count": null,
      "metadata": {
        "id": "87JNdPQWf5kY"
      },
      "outputs": [],
      "source": []
    },
    {
      "cell_type": "markdown",
      "metadata": {
        "id": "ghYsafdqf5kY"
      },
      "source": [
        "Vous pouvez voir la liste des méthodes associées aux chaînes de caractères (ainsi que sur les autres types natifs) sur [cette page](https://docs.python.org/fr/3/library/stdtypes.html#string-methods).\n",
        "\n",
        "5. La variable `a` a-t'elle été modifiée?"
      ]
    },
    {
      "cell_type": "code",
      "execution_count": 25,
      "metadata": {
        "colab": {
          "base_uri": "https://localhost:8080/"
        },
        "id": "eqJeFkwbf5kZ",
        "outputId": "3ea6e066-69ec-472a-bd15-833dad57c391"
      },
      "outputs": [
        {
          "output_type": "stream",
          "name": "stdout",
          "text": [
            "hello\n"
          ]
        }
      ],
      "source": [
        "print(a)"
      ]
    },
    {
      "cell_type": "markdown",
      "metadata": {
        "id": "XW0kyzSvf5kZ"
      },
      "source": [
        "6. Que vaut `a > b`?"
      ]
    },
    {
      "cell_type": "code",
      "execution_count": 26,
      "metadata": {
        "tags": [],
        "colab": {
          "base_uri": "https://localhost:8080/"
        },
        "id": "R5a58PVgf5ka",
        "outputId": "475772b8-c681-4377-8754-50f8aff48529"
      },
      "outputs": [
        {
          "output_type": "stream",
          "name": "stdout",
          "text": [
            "False\n"
          ]
        }
      ],
      "source": [
        "print(a>b)"
      ]
    },
    {
      "cell_type": "markdown",
      "metadata": {
        "id": "bbLUNyc2f5ka"
      },
      "source": [
        "7. Quelle est la signification de cette comparaison?"
      ]
    },
    {
      "cell_type": "markdown",
      "metadata": {
        "id": "Q_FLo8H3f5ka"
      },
      "source": [
        "### 3.4 Conversions"
      ]
    },
    {
      "cell_type": "markdown",
      "metadata": {
        "id": "xp-3jHSpf5kb"
      },
      "source": [
        "1. Dans la cellule de code suivante, devinez ce que vaut `a * 2` avant de l'afficher."
      ]
    },
    {
      "cell_type": "code",
      "execution_count": 27,
      "metadata": {
        "tags": [],
        "colab": {
          "base_uri": "https://localhost:8080/"
        },
        "id": "ZXdyJ_Vvf5kb",
        "outputId": "68e4a7fd-716d-48f9-c232-0e4bef19fb15"
      },
      "outputs": [
        {
          "output_type": "stream",
          "name": "stdout",
          "text": [
            "3232\n"
          ]
        }
      ],
      "source": [
        "a = \"32\"\n",
        "print(a*2)"
      ]
    },
    {
      "cell_type": "markdown",
      "metadata": {
        "id": "El2dvIcef5kc"
      },
      "source": [
        "2. Utilisez la fonction de conversion `int()` pour obtenir le résultat de la multiplication de nombres entiers (64 ici)."
      ]
    },
    {
      "cell_type": "code",
      "execution_count": 28,
      "metadata": {
        "tags": [],
        "colab": {
          "base_uri": "https://localhost:8080/"
        },
        "id": "UKNV8TJ2f5kc",
        "outputId": "441fcf1c-d171-4e13-d7c3-7409b59bf844"
      },
      "outputs": [
        {
          "output_type": "stream",
          "name": "stdout",
          "text": [
            "128\n"
          ]
        }
      ],
      "source": [
        "a=64\n",
        "print(int(a*2))"
      ]
    },
    {
      "cell_type": "markdown",
      "metadata": {
        "id": "PLoBsa4wf5kc"
      },
      "source": [
        "3. Ecrivez l'expression `s = input(\"Tape quelquechose au clavier\")` puis affichez `s`. Que se passe-t'il?"
      ]
    },
    {
      "cell_type": "code",
      "execution_count": 29,
      "metadata": {
        "tags": [],
        "colab": {
          "base_uri": "https://localhost:8080/"
        },
        "id": "G2yV5_A4f5kd",
        "outputId": "f93859a5-af12-47f5-8578-aa5f85297943"
      },
      "outputs": [
        {
          "output_type": "stream",
          "name": "stdout",
          "text": [
            "Tape quelquechose au clavier3\n",
            "3\n"
          ]
        }
      ],
      "source": [
        "s = input(\"Tape quelquechose au clavier\")\n",
        "print(s)"
      ]
    },
    {
      "cell_type": "markdown",
      "metadata": {
        "id": "v0nKNYRkf5kd"
      },
      "source": [
        "4. Recopiez le code de la cellule précédente. L'utilisateur doit saisir un nombre entier puis vous affichez ce nombre multiplié par 2."
      ]
    },
    {
      "cell_type": "code",
      "execution_count": 31,
      "metadata": {
        "tags": [],
        "colab": {
          "base_uri": "https://localhost:8080/"
        },
        "id": "xCJaUbrKf5ke",
        "outputId": "8f076a00-19f6-482e-b8d4-024e578f76d7"
      },
      "outputs": [
        {
          "output_type": "stream",
          "name": "stdout",
          "text": [
            "Tape quelquechose au clavier4\n",
            "8\n"
          ]
        }
      ],
      "source": [
        "s = int(input(\"Tape quelquechose au clavier\"))\n",
        "print(s*2)"
      ]
    },
    {
      "cell_type": "markdown",
      "metadata": {
        "id": "PZIO6_JQf5ke"
      },
      "source": [
        "5. ́Ecrivez le code qui demande son âge à l’utilisateur et répond en utilisant sa réponse au milieu d’une phrase, comme par exemple en lui donnant l’âge qu’il aura en 2031 le même jour."
      ]
    },
    {
      "cell_type": "code",
      "execution_count": 36,
      "metadata": {
        "tags": [],
        "colab": {
          "base_uri": "https://localhost:8080/"
        },
        "id": "qsR3D6QXf5ke",
        "outputId": "2e52c98b-c825-4cbd-cc2e-8654aa6fd427"
      },
      "outputs": [
        {
          "output_type": "stream",
          "name": "stdout",
          "text": [
            "Donne ton âge19\n",
            "tu auras 28 ans en 2031\n"
          ]
        }
      ],
      "source": [
        "s = int(input(\"Donne ton âge\"))\n",
        "p = s + 9\n",
        "print(\"tu auras\",p,\"ans en 2031\")"
      ]
    },
    {
      "cell_type": "markdown",
      "metadata": {
        "id": "o7emY73cf5ke"
      },
      "source": [
        "6. Avant de passer à la suite, sauvegardez votre notebook sur github."
      ]
    },
    {
      "cell_type": "markdown",
      "metadata": {
        "id": "a-ct3N5xf5kf"
      },
      "source": [
        "---\n",
        "## Exercices supplémentaires"
      ]
    },
    {
      "cell_type": "markdown",
      "metadata": {
        "tags": [],
        "id": "VMrf-9URf5kf"
      },
      "source": [
        "1. Parmi les chaînes de caractères suivantes, lesquelles peuvent être des noms de variable?\n",
        "* `f`\n",
        "* `l`\n",
        "* `f2`\n",
        "* `2f`\n",
        "* `totolehero`\n",
        "* `toto_le_hero`\n",
        "* `import`\n",
        "* `toto2-le-retour`\n",
        "\n",
        "Et parmi les noms corrects, lesquels ne sont pas recommandés (voir la [PEP8](https://www.python.org/dev/peps/pep-0008/#naming-conventions))?\n"
      ]
    },
    {
      "cell_type": "markdown",
      "metadata": {
        "id": "AzG-_Xr_f5kg"
      },
      "source": [
        "2. Demandez à l'utilisateur de rentrer un nombre, puis afficher sa racine carrée en faisant une phrase."
      ]
    },
    {
      "cell_type": "code",
      "execution_count": 43,
      "metadata": {
        "tags": [],
        "colab": {
          "base_uri": "https://localhost:8080/"
        },
        "id": "PnOCPf79f5kg",
        "outputId": "381f587a-2085-47cd-a2fe-c5db3ad77161"
      },
      "outputs": [
        {
          "output_type": "stream",
          "name": "stdout",
          "text": [
            "Ecris un nombre : 25\n",
            "la racine de 25 est 5.0 .\n"
          ]
        }
      ],
      "source": [
        "n = int(input(\"Ecris un nombre : \"))\n",
        "r = math.sqrt(n)\n",
        "print(\"la racine de\",n,\"est\",r,\".\")"
      ]
    },
    {
      "cell_type": "markdown",
      "metadata": {
        "id": "l-Xn2Hctf5kg"
      },
      "source": [
        "3. Ecrivez le code qui affiche:\n",
        "* la chaı̂ne ”aaaaaa...” (250 ”a”)\n",
        "* la chaı̂ne ”bbbb....a” (250 ”b” suivis d’un ”a”)\n",
        "* la chaı̂ne ”bbbb....aaabbb...” (250 ”b” suivis d’un ”a” suivi de 100 b)\n",
        "* 50 fois ”bonjour” en allant à la ligne à chaque fois (utilisez ”\\n”)\n"
      ]
    },
    {
      "cell_type": "code",
      "execution_count": 58,
      "metadata": {
        "tags": [],
        "colab": {
          "base_uri": "https://localhost:8080/"
        },
        "id": "iWnDfY-7f5kh",
        "outputId": "1577ab94-5fae-4e88-e3ae-e0b3b69682c0"
      },
      "outputs": [
        {
          "output_type": "stream",
          "name": "stdout",
          "text": [
            "aaaaaaaaaaaaaaaaaaaaaaaaa\n",
            "bbbbbbbbbbbbbbbbbbbbbbbbba\n",
            "bbbbbbbbbbbbbbbbbbbbbbbbbabbbbbbbbbb\n",
            "bonjour bonjour bonjour bonjour bonjour \n"
          ]
        }
      ],
      "source": [
        "print(25*\"a\")\n",
        "print(25*\"b\"+\"a\")\n",
        "print(25*\"b\"+\"a\"+10*\"b\")\n",
        "print(5*\"bonjour \")"
      ]
    }
  ],
  "metadata": {
    "kernelspec": {
      "display_name": "Python 3",
      "language": "python",
      "name": "python3"
    },
    "language_info": {
      "codemirror_mode": {
        "name": "ipython",
        "version": 3
      },
      "file_extension": ".py",
      "mimetype": "text/x-python",
      "name": "python",
      "nbconvert_exporter": "python",
      "pygments_lexer": "ipython3",
      "version": "3.7.6-final"
    },
    "colab": {
      "provenance": [],
      "collapsed_sections": [],
      "include_colab_link": true
    }
  },
  "nbformat": 4,
  "nbformat_minor": 0
}